{
  "metadata": {
    "kernelspec": {
      "display_name": "Python 3",
      "name": "python3"
    },
    "language_info": {
      "name": "python",
      "version": "3.10.14",
      "mimetype": "text/x-python",
      "codemirror_mode": {
        "name": "ipython",
        "version": 3
      },
      "pygments_lexer": "ipython3",
      "nbconvert_exporter": "python",
      "file_extension": ".py"
    },
    "kaggle": {
      "accelerator": "gpu",
      "dataSources": [
        {
          "sourceId": 84650,
          "databundleVersionId": 9501234,
          "sourceType": "competition"
        },
        {
          "sourceId": 9501461,
          "sourceType": "datasetVersion",
          "datasetId": 5782504
        },
        {
          "sourceId": 9501536,
          "sourceType": "datasetVersion",
          "datasetId": 5782558
        }
      ],
      "dockerImageVersionId": 30775,
      "isInternetEnabled": true,
      "language": "python",
      "sourceType": "notebook",
      "isGpuEnabled": true
    },
    "colab": {
      "provenance": [],
      "gpuType": "T4"
    },
    "accelerator": "GPU"
  },
  "nbformat_minor": 0,
  "nbformat": 4,
  "cells": [
    {
      "cell_type": "markdown",
      "source": [
        "cifar10 (https://www.cs.toronto.edu/~kriz/cifar.html) consists of 60,000 32x32 colour images in 10 classes, with 6,000 images per class. There are 50,000 training images and 10,000 test images. Here follow the ten object classes:\n",
        "* airplane\n",
        "*\tautomobile\n",
        "*\tbird\n",
        "*\tcat\n",
        "*\tdeer\n",
        "*\tdog\n",
        "*\tfrog\n",
        "*\thorse\n",
        "*\tship\n",
        "*\ttruck\n",
        "\n",
        "Here follows some data samples in the dataset:\n",
        "\n",
        "![alt text](https://production-media.paperswithcode.com/datasets/4fdf2b82-2bc3-4f97-ba51-400322b228b1.png)"
      ],
      "metadata": {
        "_uuid": "8f2839f25d086af736a60e9eeb907d3b93b6e0e5",
        "_cell_guid": "b1076dfc-b9ad-4769-8c92-a6c4dae69d19",
        "id": "BJkfWVXKqaEg"
      }
    },
    {
      "cell_type": "code",
      "source": [
        "# Import libraries\n",
        "import numpy as np\n",
        "import tensorflow as tf\n",
        "import keras              # Keras is the high-level API of TensorFlow"
      ],
      "metadata": {
        "execution": {
          "iopub.status.busy": "2024-09-29T01:45:53.349050Z",
          "iopub.execute_input": "2024-09-29T01:45:53.349369Z",
          "iopub.status.idle": "2024-09-29T01:46:06.274420Z",
          "shell.execute_reply.started": "2024-09-29T01:45:53.349333Z",
          "shell.execute_reply": "2024-09-29T01:46:06.273514Z"
        },
        "trusted": true,
        "id": "ZTvIWMo3qaEk"
      },
      "execution_count": 1,
      "outputs": []
    },
    {
      "cell_type": "code",
      "source": [
        "# Load the cifar10 dataset and split train/test\n",
        "(X_train, y_train), (X_test, y_test) = tf.keras.datasets.cifar10.load_data()\n",
        "\n",
        "print(\"Train shape: X_train = \" + str(X_train.shape) + \", y_train = \" + str(y_train.shape))\n",
        "print(\"Test shape: X_test = \" + str(X_test.shape) + \", y_test = \" + str(y_test.shape))"
      ],
      "metadata": {
        "execution": {
          "iopub.status.busy": "2024-09-29T01:46:06.275918Z",
          "iopub.execute_input": "2024-09-29T01:46:06.276447Z",
          "iopub.status.idle": "2024-09-29T01:46:12.672903Z",
          "shell.execute_reply.started": "2024-09-29T01:46:06.276413Z",
          "shell.execute_reply": "2024-09-29T01:46:12.671951Z"
        },
        "trusted": true,
        "colab": {
          "base_uri": "https://localhost:8080/"
        },
        "id": "YRRLi0miqaEl",
        "outputId": "5398949a-800a-4485-ac4f-30e9d0749979"
      },
      "execution_count": 2,
      "outputs": [
        {
          "output_type": "stream",
          "name": "stdout",
          "text": [
            "Downloading data from https://www.cs.toronto.edu/~kriz/cifar-10-python.tar.gz\n",
            "\u001b[1m170498071/170498071\u001b[0m \u001b[32m━━━━━━━━━━━━━━━━━━━━\u001b[0m\u001b[37m\u001b[0m \u001b[1m13s\u001b[0m 0us/step\n",
            "Train shape: X_train = (50000, 32, 32, 3), y_train = (50000, 1)\n",
            "Test shape: X_test = (10000, 32, 32, 3), y_test = (10000, 1)\n"
          ]
        }
      ]
    },
    {
      "cell_type": "code",
      "source": [
        "# Show some samples in the dataset\n",
        "import matplotlib.pyplot as plt\n",
        "imgplot = plt.imshow(X_train[5])\n",
        "plt.show()\n",
        "imgplot = plt.imshow(X_test[10])\n",
        "plt.show()"
      ],
      "metadata": {
        "execution": {
          "iopub.status.busy": "2024-09-29T01:46:12.674034Z",
          "iopub.execute_input": "2024-09-29T01:46:12.674318Z",
          "iopub.status.idle": "2024-09-29T01:46:13.156754Z",
          "shell.execute_reply.started": "2024-09-29T01:46:12.674287Z",
          "shell.execute_reply": "2024-09-29T01:46:13.155788Z"
        },
        "trusted": true,
        "colab": {
          "base_uri": "https://localhost:8080/",
          "height": 843
        },
        "id": "Wj2UlCwXqaEm",
        "outputId": "ed80b042-1c59-4fc3-cec8-45dcc437d187"
      },
      "execution_count": 3,
      "outputs": [
        {
          "output_type": "display_data",
          "data": {
            "text/plain": [
              "<Figure size 640x480 with 1 Axes>"
            ],
            "image/png": "[encoded data removed]"
          },
          "metadata": {}
        },
        {
          "output_type": "display_data",
          "data": {
            "text/plain": [
              "<Figure size 640x480 with 1 Axes>"
            ],
            "image/png": "[encoded data removed]"
          },
          "metadata": {}
        }
      ]
    },
    {
      "cell_type": "code",
      "source": [
        "# Normalize pixel values\n",
        "X_train, X_test = X_train/255.0, X_test/255.0"
      ],
      "metadata": {
        "execution": {
          "iopub.status.busy": "2024-09-29T01:46:13.158795Z",
          "iopub.execute_input": "2024-09-29T01:46:13.159119Z",
          "iopub.status.idle": "2024-09-29T01:46:13.611445Z",
          "shell.execute_reply.started": "2024-09-29T01:46:13.159085Z",
          "shell.execute_reply": "2024-09-29T01:46:13.610544Z"
        },
        "trusted": true,
        "id": "NZxQwgwUqaEm"
      },
      "execution_count": 4,
      "outputs": []
    },
    {
      "cell_type": "code",
      "source": [
        "# Split train/valid from the training set\n",
        "from sklearn.model_selection import train_test_split\n",
        "X_train, X_val, y_train, y_val = train_test_split(X_train, y_train, test_size=0.1, random_state=5)\n",
        "\n",
        "print(\"Train shape: X_train = \" + str(X_train.shape) + \", y_train = \" + str(y_train.shape))\n",
        "print(\"Val shape: X_val = \" + str(X_val.shape) + \", y_val = \" + str(y_val.shape))\n",
        "print(\"Test shape: X_test = \" + str(X_test.shape) + \", y_test = \" + str(y_test.shape))"
      ],
      "metadata": {
        "execution": {
          "iopub.status.busy": "2024-09-29T01:46:13.612603Z",
          "iopub.execute_input": "2024-09-29T01:46:13.612931Z",
          "iopub.status.idle": "2024-09-29T01:46:14.653823Z",
          "shell.execute_reply.started": "2024-09-29T01:46:13.612897Z",
          "shell.execute_reply": "2024-09-29T01:46:14.652662Z"
        },
        "trusted": true,
        "colab": {
          "base_uri": "https://localhost:8080/"
        },
        "id": "k1P4KFv8qaEn",
        "outputId": "8dd3e723-789e-4f8c-e0c5-d9162ae2881c"
      },
      "execution_count": 5,
      "outputs": [
        {
          "output_type": "stream",
          "name": "stdout",
          "text": [
            "Train shape: X_train = (45000, 32, 32, 3), y_train = (45000, 1)\n",
            "Val shape: X_val = (5000, 32, 32, 3), y_val = (5000, 1)\n",
            "Test shape: X_test = (10000, 32, 32, 3), y_test = (10000, 1)\n"
          ]
        }
      ]
    },
    {
      "cell_type": "markdown",
      "source": [
        "# Build 93% model"
      ],
      "metadata": {
        "id": "gvTD0FGvqaEn"
      }
    },
    {
      "cell_type": "code",
      "source": [
        "import tensorflow as tf\n",
        "from tensorflow.keras import layers, models\n",
        "\n",
        "# Function to create a convolutional block with optional MaxPooling and Dropout\n",
        "def conv_block(in_channels, out_channels, pool=False, dropout_rate=0.3):\n",
        "    block = models.Sequential()\n",
        "    block.add(layers.Conv2D(out_channels, kernel_size=3, strides=1, padding='same', input_shape=(None, None, in_channels)))\n",
        "    block.add(layers.BatchNormalization(epsilon=1e-05, momentum=0.1))  # BatchNorm2D equivalent\n",
        "    block.add(layers.ReLU())\n",
        "    if pool:\n",
        "        block.add(layers.MaxPooling2D(pool_size=2, strides=2))\n",
        "    # Add Dropout layer after each convolutional block\n",
        "    block.add(layers.Dropout(dropout_rate))\n",
        "    return block\n",
        "\n",
        "# Function to create a residual block with two convolutional layers and Dropout\n",
        "def res_block(channels, dropout_rate=0.3):\n",
        "    block = models.Sequential([\n",
        "        models.Sequential([\n",
        "            layers.Conv2D(channels, kernel_size=3, padding='same'),\n",
        "            layers.BatchNormalization(epsilon=1e-05, momentum=0.1),  # BatchNorm2D equivalent\n",
        "            layers.ReLU(),\n",
        "            layers.Dropout(dropout_rate)  # Add Dropout after the first conv\n",
        "        ]),\n",
        "        models.Sequential([\n",
        "            layers.Conv2D(channels, kernel_size=3, padding='same'),\n",
        "            layers.BatchNormalization(epsilon=1e-05, momentum=0.1),  # BatchNorm2D equivalent\n",
        "            layers.ReLU(),\n",
        "            layers.Dropout(dropout_rate)  # Add Dropout after the second conv\n",
        "        ])\n",
        "    ])\n",
        "    return block\n",
        "\n",
        "# Function to create the ResNet9 model with Dropout and adjusted BatchNorm\n",
        "def create_model(in_channels, num_classes, dropout_rate=0.3):\n",
        "    inputs = layers.Input(shape=(32, 32, in_channels))  # Assuming input shape is 32x32 images with 3 channels (RGB)\n",
        "\n",
        "    # conv1 block\n",
        "    x = conv_block(in_channels, 64, dropout_rate=0.2)(inputs)\n",
        "\n",
        "    # conv2 block\n",
        "    x = conv_block(64, 128, pool=True, dropout_rate=dropout_rate)(x)\n",
        "\n",
        "    # res1 block\n",
        "    res1 = res_block(128, dropout_rate=dropout_rate)(x)\n",
        "    x = layers.Add()([x, res1])  # Add skip connection\n",
        "\n",
        "    # conv3 block\n",
        "    x = conv_block(128, 256, pool=True, dropout_rate=dropout_rate)(x)\n",
        "\n",
        "    # conv4 block\n",
        "    x = conv_block(256, 350, pool=True, dropout_rate=dropout_rate)(x)\n",
        "\n",
        "    # res2 block\n",
        "    res2 = res_block(350, dropout_rate=dropout_rate)(x)\n",
        "    x = layers.Add()([x, res2])  # Add skip connection\n",
        "\n",
        "    # Classifier block\n",
        "    x = layers.MaxPooling2D(pool_size=4)(x)\n",
        "    x = layers.Dropout(0.5)(x)\n",
        "    x = layers.Flatten()(x)\n",
        "    outputs = layers.Dense(num_classes)(x)\n",
        "\n",
        "    # Create model\n",
        "    model = models.Model(inputs=inputs, outputs=outputs)\n",
        "\n",
        "    return model\n",
        "\n",
        "# Instantiate the model\n",
        "model = create_model(in_channels=3, num_classes=10, dropout_rate=0.3)\n",
        "\n",
        "# Build the model by calling it on a dummy input\n",
        "dummy_input = tf.random.normal([1, 32, 32, 3])  # Assuming input size is 32x32 RGB images\n",
        "_ = model(dummy_input)\n",
        "\n",
        "# Print model summary\n",
        "model.summary()\n",
        "\n",
        "# Compile the model\n",
        "model.compile(\n",
        "    optimizer=tf.keras.optimizers.Adam(learning_rate=0.001),\n",
        "    loss=tf.keras.losses.SparseCategoricalCrossentropy(from_logits=True),\n",
        "    metrics=['accuracy']\n",
        ")"
      ],
      "metadata": {
        "execution": {
          "iopub.status.busy": "2024-09-29T01:46:14.656578Z",
          "iopub.execute_input": "2024-09-29T01:46:14.657314Z",
          "iopub.status.idle": "2024-09-29T01:46:17.033601Z",
          "shell.execute_reply.started": "2024-09-29T01:46:14.657258Z",
          "shell.execute_reply": "2024-09-29T01:46:17.032693Z"
        },
        "trusted": true,
        "colab": {
          "base_uri": "https://localhost:8080/",
          "height": 649
        },
        "id": "DkBHTTykqaEo",
        "outputId": "2fabce01-88fe-46f6-e9d0-4b9adeab620c"
      },
      "execution_count": 6,
      "outputs": [
        {
          "output_type": "stream",
          "name": "stderr",
          "text": [
            "/usr/local/lib/python3.10/dist-packages/keras/src/layers/convolutional/base_conv.py:107: UserWarning: Do not pass an `input_shape`/`input_dim` argument to a layer. When using Sequential models, prefer using an `Input(shape)` object as the first layer in the model instead.\n",
            "  super().__init__(activity_regularizer=activity_regularizer, **kwargs)\n"
          ]
        },
        {
          "output_type": "display_data",
          "data": {
            "text/plain": [
              "\u001b[1mModel: \"functional_25\"\u001b[0m\n"
            ],
            "text/html": [
              "<pre style=\"white-space:pre;overflow-x:auto;line-height:normal;font-family:Menlo,'DejaVu Sans Mono',consolas,'Courier New',monospace\"><span style=\"font-weight: bold\">Model: \"functional_25\"</span>\n",
              "</pre>\n"
            ]
          },
          "metadata": {}
        },
        {
          "output_type": "display_data",
          "data": {
            "text/plain": [
              "┏━━━━━━━━━━━━━━━━━━━━━━━━━━━┳━━━━━━━━━━━━━━━━━━━━━━━━┳━━━━━━━━━━━━━━━━┳━━━━━━━━━━━━━━━━━━━━━━━━┓\n",
              "┃\u001b[1m \u001b[0m\u001b[1mLayer (type)             \u001b[0m\u001b[1m \u001b[0m┃\u001b[1m \u001b[0m\u001b[1mOutput Shape          \u001b[0m\u001b[1m \u001b[0m┃\u001b[1m \u001b[0m\u001b[1m       Param #\u001b[0m\u001b[1m \u001b[0m┃\u001b[1m \u001b[0m\u001b[1mConnected to          \u001b[0m\u001b[1m \u001b[0m┃\n",
              "┡━━━━━━━━━━━━━━━━━━━━━━━━━━━╇━━━━━━━━━━━━━━━━━━━━━━━━╇━━━━━━━━━━━━━━━━╇━━━━━━━━━━━━━━━━━━━━━━━━┩\n",
              "│ input_layer (\u001b[38;5;33mInputLayer\u001b[0m)  │ (\u001b[38;5;45mNone\u001b[0m, \u001b[38;5;34m32\u001b[0m, \u001b[38;5;34m32\u001b[0m, \u001b[38;5;34m3\u001b[0m)      │              \u001b[38;5;34m0\u001b[0m │ -                      │\n",
              "├───────────────────────────┼────────────────────────┼────────────────┼────────────────────────┤\n",
              "│ sequential (\u001b[38;5;33mSequential\u001b[0m)   │ (\u001b[38;5;45mNone\u001b[0m, \u001b[38;5;34m32\u001b[0m, \u001b[38;5;34m32\u001b[0m, \u001b[38;5;34m64\u001b[0m)     │          \u001b[38;5;34m2,048\u001b[0m │ input_layer[\u001b[38;5;34m0\u001b[0m][\u001b[38;5;34m0\u001b[0m]      │\n",
              "├───────────────────────────┼────────────────────────┼────────────────┼────────────────────────┤\n",
              "│ sequential_1 (\u001b[38;5;33mSequential\u001b[0m) │ (\u001b[38;5;45mNone\u001b[0m, \u001b[38;5;34m16\u001b[0m, \u001b[38;5;34m16\u001b[0m, \u001b[38;5;34m128\u001b[0m)    │         \u001b[38;5;34m74,368\u001b[0m │ sequential[\u001b[38;5;34m0\u001b[0m][\u001b[38;5;34m0\u001b[0m]       │\n",
              "├───────────────────────────┼────────────────────────┼────────────────┼────────────────────────┤\n",
              "│ sequential_4 (\u001b[38;5;33mSequential\u001b[0m) │ (\u001b[38;5;45mNone\u001b[0m, \u001b[38;5;34m16\u001b[0m, \u001b[38;5;34m16\u001b[0m, \u001b[38;5;34m128\u001b[0m)    │        \u001b[38;5;34m296,192\u001b[0m │ sequential_1[\u001b[38;5;34m0\u001b[0m][\u001b[38;5;34m0\u001b[0m]     │\n",
              "├───────────────────────────┼────────────────────────┼────────────────┼────────────────────────┤\n",
              "│ add (\u001b[38;5;33mAdd\u001b[0m)                 │ (\u001b[38;5;45mNone\u001b[0m, \u001b[38;5;34m16\u001b[0m, \u001b[38;5;34m16\u001b[0m, \u001b[38;5;34m128\u001b[0m)    │              \u001b[38;5;34m0\u001b[0m │ sequential_1[\u001b[38;5;34m0\u001b[0m][\u001b[38;5;34m0\u001b[0m],    │\n",
              "│                           │                        │                │ sequential_4[\u001b[38;5;34m0\u001b[0m][\u001b[38;5;34m0\u001b[0m]     │\n",
              "├───────────────────────────┼────────────────────────┼────────────────┼────────────────────────┤\n",
              "│ sequential_5 (\u001b[38;5;33mSequential\u001b[0m) │ (\u001b[38;5;45mNone\u001b[0m, \u001b[38;5;34m8\u001b[0m, \u001b[38;5;34m8\u001b[0m, \u001b[38;5;34m256\u001b[0m)      │        \u001b[38;5;34m296,192\u001b[0m │ add[\u001b[38;5;34m0\u001b[0m][\u001b[38;5;34m0\u001b[0m]              │\n",
              "├───────────────────────────┼────────────────────────┼────────────────┼────────────────────────┤\n",
              "│ sequential_6 (\u001b[38;5;33mSequential\u001b[0m) │ (\u001b[38;5;45mNone\u001b[0m, \u001b[38;5;34m4\u001b[0m, \u001b[38;5;34m4\u001b[0m, \u001b[38;5;34m350\u001b[0m)      │        \u001b[38;5;34m808,150\u001b[0m │ sequential_5[\u001b[38;5;34m0\u001b[0m][\u001b[38;5;34m0\u001b[0m]     │\n",
              "├───────────────────────────┼────────────────────────┼────────────────┼────────────────────────┤\n",
              "│ sequential_9 (\u001b[38;5;33mSequential\u001b[0m) │ (\u001b[38;5;45mNone\u001b[0m, \u001b[38;5;34m4\u001b[0m, \u001b[38;5;34m4\u001b[0m, \u001b[38;5;34m350\u001b[0m)      │      \u001b[38;5;34m2,208,500\u001b[0m │ sequential_6[\u001b[38;5;34m0\u001b[0m][\u001b[38;5;34m0\u001b[0m]     │\n",
              "├───────────────────────────┼────────────────────────┼────────────────┼────────────────────────┤\n",
              "│ add_1 (\u001b[38;5;33mAdd\u001b[0m)               │ (\u001b[38;5;45mNone\u001b[0m, \u001b[38;5;34m4\u001b[0m, \u001b[38;5;34m4\u001b[0m, \u001b[38;5;34m350\u001b[0m)      │              \u001b[38;5;34m0\u001b[0m │ sequential_6[\u001b[38;5;34m0\u001b[0m][\u001b[38;5;34m0\u001b[0m],    │\n",
              "│                           │                        │                │ sequential_9[\u001b[38;5;34m0\u001b[0m][\u001b[38;5;34m0\u001b[0m]     │\n",
              "├───────────────────────────┼────────────────────────┼────────────────┼────────────────────────┤\n",
              "│ max_pooling2d_3           │ (\u001b[38;5;45mNone\u001b[0m, \u001b[38;5;34m1\u001b[0m, \u001b[38;5;34m1\u001b[0m, \u001b[38;5;34m350\u001b[0m)      │              \u001b[38;5;34m0\u001b[0m │ add_1[\u001b[38;5;34m0\u001b[0m][\u001b[38;5;34m0\u001b[0m]            │\n",
              "│ (\u001b[38;5;33mMaxPooling2D\u001b[0m)            │                        │                │                        │\n",
              "├───────────────────────────┼────────────────────────┼────────────────┼────────────────────────┤\n",
              "│ dropout_8 (\u001b[38;5;33mDropout\u001b[0m)       │ (\u001b[38;5;45mNone\u001b[0m, \u001b[38;5;34m1\u001b[0m, \u001b[38;5;34m1\u001b[0m, \u001b[38;5;34m350\u001b[0m)      │              \u001b[38;5;34m0\u001b[0m │ max_pooling2d_3[\u001b[38;5;34m0\u001b[0m][\u001b[38;5;34m0\u001b[0m]  │\n",
              "├───────────────────────────┼────────────────────────┼────────────────┼────────────────────────┤\n",
              "│ flatten (\u001b[38;5;33mFlatten\u001b[0m)         │ (\u001b[38;5;45mNone\u001b[0m, \u001b[38;5;34m350\u001b[0m)            │              \u001b[38;5;34m0\u001b[0m │ dropout_8[\u001b[38;5;34m0\u001b[0m][\u001b[38;5;34m0\u001b[0m]        │\n",
              "├───────────────────────────┼────────────────────────┼────────────────┼────────────────────────┤\n",
              "│ dense (\u001b[38;5;33mDense\u001b[0m)             │ (\u001b[38;5;45mNone\u001b[0m, \u001b[38;5;34m10\u001b[0m)             │          \u001b[38;5;34m3,510\u001b[0m │ flatten[\u001b[38;5;34m0\u001b[0m][\u001b[38;5;34m0\u001b[0m]          │\n",
              "└───────────────────────────┴────────────────────────┴────────────────┴────────────────────────┘\n"
            ],
            "text/html": [
              "<pre style=\"white-space:pre;overflow-x:auto;line-height:normal;font-family:Menlo,'DejaVu Sans Mono',consolas,'Courier New',monospace\">┏━━━━━━━━━━━━━━━━━━━━━━━━━━━┳━━━━━━━━━━━━━━━━━━━━━━━━┳━━━━━━━━━━━━━━━━┳━━━━━━━━━━━━━━━━━━━━━━━━┓\n",
              "┃<span style=\"font-weight: bold\"> Layer (type)              </span>┃<span style=\"font-weight: bold\"> Output Shape           </span>┃<span style=\"font-weight: bold\">        Param # </span>┃<span style=\"font-weight: bold\"> Connected to           </span>┃\n",
              "┡━━━━━━━━━━━━━━━━━━━━━━━━━━━╇━━━━━━━━━━━━━━━━━━━━━━━━╇━━━━━━━━━━━━━━━━╇━━━━━━━━━━━━━━━━━━━━━━━━┩\n",
              "│ input_layer (<span style=\"color: #0087ff; text-decoration-color: #0087ff\">InputLayer</span>)  │ (<span style=\"color: #00d7ff; text-decoration-color: #00d7ff\">None</span>, <span style=\"color: #00af00; text-decoration-color: #00af00\">32</span>, <span style=\"color: #00af00; text-decoration-color: #00af00\">32</span>, <span style=\"color: #00af00; text-decoration-color: #00af00\">3</span>)      │              <span style=\"color: #00af00; text-decoration-color: #00af00\">0</span> │ -                      │\n",
              "├───────────────────────────┼────────────────────────┼────────────────┼────────────────────────┤\n",
              "│ sequential (<span style=\"color: #0087ff; text-decoration-color: #0087ff\">Sequential</span>)   │ (<span style=\"color: #00d7ff; text-decoration-color: #00d7ff\">None</span>, <span style=\"color: #00af00; text-decoration-color: #00af00\">32</span>, <span style=\"color: #00af00; text-decoration-color: #00af00\">32</span>, <span style=\"color: #00af00; text-decoration-color: #00af00\">64</span>)     │          <span style=\"color: #00af00; text-decoration-color: #00af00\">2,048</span> │ input_layer[<span style=\"color: #00af00; text-decoration-color: #00af00\">0</span>][<span style=\"color: #00af00; text-decoration-color: #00af00\">0</span>]      │\n",
              "├───────────────────────────┼────────────────────────┼────────────────┼────────────────────────┤\n",
              "│ sequential_1 (<span style=\"color: #0087ff; text-decoration-color: #0087ff\">Sequential</span>) │ (<span style=\"color: #00d7ff; text-decoration-color: #00d7ff\">None</span>, <span style=\"color: #00af00; text-decoration-color: #00af00\">16</span>, <span style=\"color: #00af00; text-decoration-color: #00af00\">16</span>, <span style=\"color: #00af00; text-decoration-color: #00af00\">128</span>)    │         <span style=\"color: #00af00; text-decoration-color: #00af00\">74,368</span> │ sequential[<span style=\"color: #00af00; text-decoration-color: #00af00\">0</span>][<span style=\"color: #00af00; text-decoration-color: #00af00\">0</span>]       │\n",
              "├───────────────────────────┼────────────────────────┼────────────────┼────────────────────────┤\n",
              "│ sequential_4 (<span style=\"color: #0087ff; text-decoration-color: #0087ff\">Sequential</span>) │ (<span style=\"color: #00d7ff; text-decoration-color: #00d7ff\">None</span>, <span style=\"color: #00af00; text-decoration-color: #00af00\">16</span>, <span style=\"color: #00af00; text-decoration-color: #00af00\">16</span>, <span style=\"color: #00af00; text-decoration-color: #00af00\">128</span>)    │        <span style=\"color: #00af00; text-decoration-color: #00af00\">296,192</span> │ sequential_1[<span style=\"color: #00af00; text-decoration-color: #00af00\">0</span>][<span style=\"color: #00af00; text-decoration-color: #00af00\">0</span>]     │\n",
              "├───────────────────────────┼────────────────────────┼────────────────┼────────────────────────┤\n",
              "│ add (<span style=\"color: #0087ff; text-decoration-color: #0087ff\">Add</span>)                 │ (<span style=\"color: #00d7ff; text-decoration-color: #00d7ff\">None</span>, <span style=\"color: #00af00; text-decoration-color: #00af00\">16</span>, <span style=\"color: #00af00; text-decoration-color: #00af00\">16</span>, <span style=\"color: #00af00; text-decoration-color: #00af00\">128</span>)    │              <span style=\"color: #00af00; text-decoration-color: #00af00\">0</span> │ sequential_1[<span style=\"color: #00af00; text-decoration-color: #00af00\">0</span>][<span style=\"color: #00af00; text-decoration-color: #00af00\">0</span>],    │\n",
              "│                           │                        │                │ sequential_4[<span style=\"color: #00af00; text-decoration-color: #00af00\">0</span>][<span style=\"color: #00af00; text-decoration-color: #00af00\">0</span>]     │\n",
              "├───────────────────────────┼────────────────────────┼────────────────┼────────────────────────┤\n",
              "│ sequential_5 (<span style=\"color: #0087ff; text-decoration-color: #0087ff\">Sequential</span>) │ (<span style=\"color: #00d7ff; text-decoration-color: #00d7ff\">None</span>, <span style=\"color: #00af00; text-decoration-color: #00af00\">8</span>, <span style=\"color: #00af00; text-decoration-color: #00af00\">8</span>, <span style=\"color: #00af00; text-decoration-color: #00af00\">256</span>)      │        <span style=\"color: #00af00; text-decoration-color: #00af00\">296,192</span> │ add[<span style=\"color: #00af00; text-decoration-color: #00af00\">0</span>][<span style=\"color: #00af00; text-decoration-color: #00af00\">0</span>]              │\n",
              "├───────────────────────────┼────────────────────────┼────────────────┼────────────────────────┤\n",
              "│ sequential_6 (<span style=\"color: #0087ff; text-decoration-color: #0087ff\">Sequential</span>) │ (<span style=\"color: #00d7ff; text-decoration-color: #00d7ff\">None</span>, <span style=\"color: #00af00; text-decoration-color: #00af00\">4</span>, <span style=\"color: #00af00; text-decoration-color: #00af00\">4</span>, <span style=\"color: #00af00; text-decoration-color: #00af00\">350</span>)      │        <span style=\"color: #00af00; text-decoration-color: #00af00\">808,150</span> │ sequential_5[<span style=\"color: #00af00; text-decoration-color: #00af00\">0</span>][<span style=\"color: #00af00; text-decoration-color: #00af00\">0</span>]     │\n",
              "├───────────────────────────┼────────────────────────┼────────────────┼────────────────────────┤\n",
              "│ sequential_9 (<span style=\"color: #0087ff; text-decoration-color: #0087ff\">Sequential</span>) │ (<span style=\"color: #00d7ff; text-decoration-color: #00d7ff\">None</span>, <span style=\"color: #00af00; text-decoration-color: #00af00\">4</span>, <span style=\"color: #00af00; text-decoration-color: #00af00\">4</span>, <span style=\"color: #00af00; text-decoration-color: #00af00\">350</span>)      │      <span style=\"color: #00af00; text-decoration-color: #00af00\">2,208,500</span> │ sequential_6[<span style=\"color: #00af00; text-decoration-color: #00af00\">0</span>][<span style=\"color: #00af00; text-decoration-color: #00af00\">0</span>]     │\n",
              "├───────────────────────────┼────────────────────────┼────────────────┼────────────────────────┤\n",
              "│ add_1 (<span style=\"color: #0087ff; text-decoration-color: #0087ff\">Add</span>)               │ (<span style=\"color: #00d7ff; text-decoration-color: #00d7ff\">None</span>, <span style=\"color: #00af00; text-decoration-color: #00af00\">4</span>, <span style=\"color: #00af00; text-decoration-color: #00af00\">4</span>, <span style=\"color: #00af00; text-decoration-color: #00af00\">350</span>)      │              <span style=\"color: #00af00; text-decoration-color: #00af00\">0</span> │ sequential_6[<span style=\"color: #00af00; text-decoration-color: #00af00\">0</span>][<span style=\"color: #00af00; text-decoration-color: #00af00\">0</span>],    │\n",
              "│                           │                        │                │ sequential_9[<span style=\"color: #00af00; text-decoration-color: #00af00\">0</span>][<span style=\"color: #00af00; text-decoration-color: #00af00\">0</span>]     │\n",
              "├───────────────────────────┼────────────────────────┼────────────────┼────────────────────────┤\n",
              "│ max_pooling2d_3           │ (<span style=\"color: #00d7ff; text-decoration-color: #00d7ff\">None</span>, <span style=\"color: #00af00; text-decoration-color: #00af00\">1</span>, <span style=\"color: #00af00; text-decoration-color: #00af00\">1</span>, <span style=\"color: #00af00; text-decoration-color: #00af00\">350</span>)      │              <span style=\"color: #00af00; text-decoration-color: #00af00\">0</span> │ add_1[<span style=\"color: #00af00; text-decoration-color: #00af00\">0</span>][<span style=\"color: #00af00; text-decoration-color: #00af00\">0</span>]            │\n",
              "│ (<span style=\"color: #0087ff; text-decoration-color: #0087ff\">MaxPooling2D</span>)            │                        │                │                        │\n",
              "├───────────────────────────┼────────────────────────┼────────────────┼────────────────────────┤\n",
              "│ dropout_8 (<span style=\"color: #0087ff; text-decoration-color: #0087ff\">Dropout</span>)       │ (<span style=\"color: #00d7ff; text-decoration-color: #00d7ff\">None</span>, <span style=\"color: #00af00; text-decoration-color: #00af00\">1</span>, <span style=\"color: #00af00; text-decoration-color: #00af00\">1</span>, <span style=\"color: #00af00; text-decoration-color: #00af00\">350</span>)      │              <span style=\"color: #00af00; text-decoration-color: #00af00\">0</span> │ max_pooling2d_3[<span style=\"color: #00af00; text-decoration-color: #00af00\">0</span>][<span style=\"color: #00af00; text-decoration-color: #00af00\">0</span>]  │\n",
              "├───────────────────────────┼────────────────────────┼────────────────┼────────────────────────┤\n",
              "│ flatten (<span style=\"color: #0087ff; text-decoration-color: #0087ff\">Flatten</span>)         │ (<span style=\"color: #00d7ff; text-decoration-color: #00d7ff\">None</span>, <span style=\"color: #00af00; text-decoration-color: #00af00\">350</span>)            │              <span style=\"color: #00af00; text-decoration-color: #00af00\">0</span> │ dropout_8[<span style=\"color: #00af00; text-decoration-color: #00af00\">0</span>][<span style=\"color: #00af00; text-decoration-color: #00af00\">0</span>]        │\n",
              "├───────────────────────────┼────────────────────────┼────────────────┼────────────────────────┤\n",
              "│ dense (<span style=\"color: #0087ff; text-decoration-color: #0087ff\">Dense</span>)             │ (<span style=\"color: #00d7ff; text-decoration-color: #00d7ff\">None</span>, <span style=\"color: #00af00; text-decoration-color: #00af00\">10</span>)             │          <span style=\"color: #00af00; text-decoration-color: #00af00\">3,510</span> │ flatten[<span style=\"color: #00af00; text-decoration-color: #00af00\">0</span>][<span style=\"color: #00af00; text-decoration-color: #00af00\">0</span>]          │\n",
              "└───────────────────────────┴────────────────────────┴────────────────┴────────────────────────┘\n",
              "</pre>\n"
            ]
          },
          "metadata": {}
        },
        {
          "output_type": "display_data",
          "data": {
            "text/plain": [
              "\u001b[1m Total params: \u001b[0m\u001b[38;5;34m3,688,960\u001b[0m (14.07 MB)\n"
            ],
            "text/html": [
              "<pre style=\"white-space:pre;overflow-x:auto;line-height:normal;font-family:Menlo,'DejaVu Sans Mono',consolas,'Courier New',monospace\"><span style=\"font-weight: bold\"> Total params: </span><span style=\"color: #00af00; text-decoration-color: #00af00\">3,688,960</span> (14.07 MB)\n",
              "</pre>\n"
            ]
          },
          "metadata": {}
        },
        {
          "output_type": "display_data",
          "data": {
            "text/plain": [
              "\u001b[1m Trainable params: \u001b[0m\u001b[38;5;34m3,685,452\u001b[0m (14.06 MB)\n"
            ],
            "text/html": [
              "<pre style=\"white-space:pre;overflow-x:auto;line-height:normal;font-family:Menlo,'DejaVu Sans Mono',consolas,'Courier New',monospace\"><span style=\"font-weight: bold\"> Trainable params: </span><span style=\"color: #00af00; text-decoration-color: #00af00\">3,685,452</span> (14.06 MB)\n",
              "</pre>\n"
            ]
          },
          "metadata": {}
        },
        {
          "output_type": "display_data",
          "data": {
            "text/plain": [
              "\u001b[1m Non-trainable params: \u001b[0m\u001b[38;5;34m3,508\u001b[0m (13.70 KB)\n"
            ],
            "text/html": [
              "<pre style=\"white-space:pre;overflow-x:auto;line-height:normal;font-family:Menlo,'DejaVu Sans Mono',consolas,'Courier New',monospace\"><span style=\"font-weight: bold\"> Non-trainable params: </span><span style=\"color: #00af00; text-decoration-color: #00af00\">3,508</span> (13.70 KB)\n",
              "</pre>\n"
            ]
          },
          "metadata": {}
        }
      ]
    },
    {
      "cell_type": "code",
      "source": [
        "import tensorflow as tf\n",
        "print(\"Num GPUs Available: \", len(tf.config.experimental.list_physical_devices('GPU')))"
      ],
      "metadata": {
        "execution": {
          "iopub.status.busy": "2024-09-29T01:46:17.034891Z",
          "iopub.execute_input": "2024-09-29T01:46:17.035522Z",
          "iopub.status.idle": "2024-09-29T01:46:17.041952Z",
          "shell.execute_reply.started": "2024-09-29T01:46:17.035475Z",
          "shell.execute_reply": "2024-09-29T01:46:17.040871Z"
        },
        "trusted": true,
        "colab": {
          "base_uri": "https://localhost:8080/"
        },
        "id": "hhXVwCyMqaEo",
        "outputId": "9aa19d50-b93c-4d3e-c23b-38cd351ac32d"
      },
      "execution_count": 7,
      "outputs": [
        {
          "output_type": "stream",
          "name": "stdout",
          "text": [
            "Num GPUs Available:  1\n"
          ]
        }
      ]
    },
    {
      "cell_type": "markdown",
      "source": [
        "# Train"
      ],
      "metadata": {
        "id": "PhMiIhneqaEp"
      }
    },
    {
      "cell_type": "code",
      "source": [
        "# model.load_weights('/kaggle/input/model-93-h5/model_0.9341999888420105.h5')"
      ],
      "metadata": {
        "execution": {
          "iopub.status.busy": "2024-09-29T01:46:17.042926Z",
          "iopub.execute_input": "2024-09-29T01:46:17.043285Z",
          "iopub.status.idle": "2024-09-29T01:46:17.050797Z",
          "shell.execute_reply.started": "2024-09-29T01:46:17.043241Z",
          "shell.execute_reply": "2024-09-29T01:46:17.049864Z"
        },
        "trusted": true,
        "id": "e-dpNoscqaEp"
      },
      "execution_count": 8,
      "outputs": []
    },
    {
      "cell_type": "markdown",
      "source": [
        "## Train preweight"
      ],
      "metadata": {
        "id": "MW3WDQ3UqaEp"
      }
    },
    {
      "cell_type": "code",
      "source": [
        "import tensorflow as tf\n",
        "import keras              # Keras is the high-level API of TensorFlow\n",
        "from tensorflow.keras.callbacks import ReduceLROnPlateau, EarlyStopping\n",
        "\n",
        "early_stop = EarlyStopping(monitor='val_accuracy', patience=20, restore_best_weights=True)\n",
        "# Train the model. Using Colab for training\n",
        "history = model.fit(X_train, y_train, # Data feature and data label\n",
        "                    batch_size=256, # Batch size\n",
        "                    epochs=30, # Number of training epochs\n",
        "                    validation_data=(X_val, y_val), # Validation set\n",
        "                    callbacks=[early_stop]) # Use callback ModelCheckpoint during the training"
      ],
      "metadata": {
        "scrolled": true,
        "execution": {
          "iopub.status.busy": "2024-09-29T01:46:17.052032Z",
          "iopub.execute_input": "2024-09-29T01:46:17.052374Z",
          "iopub.status.idle": "2024-09-29T01:51:37.796341Z",
          "shell.execute_reply.started": "2024-09-29T01:46:17.052342Z",
          "shell.execute_reply": "2024-09-29T01:51:37.795431Z"
        },
        "trusted": true,
        "colab": {
          "base_uri": "https://localhost:8080/"
        },
        "id": "p6Hb_9xdqaEp",
        "outputId": "b6d565ee-87a8-414b-fe0b-903b88c43438"
      },
      "execution_count": 9,
      "outputs": [
        {
          "output_type": "stream",
          "name": "stdout",
          "text": [
            "Epoch 1/30\n",
            "\u001b[1m176/176\u001b[0m \u001b[32m━━━━━━━━━━━━━━━━━━━━\u001b[0m\u001b[37m\u001b[0m \u001b[1m67s\u001b[0m 235ms/step - accuracy: 0.1737 - loss: 4.6792 - val_accuracy: 0.2582 - val_loss: 1.9794\n",
            "Epoch 2/30\n",
            "\u001b[1m176/176\u001b[0m \u001b[32m━━━━━━━━━━━━━━━━━━━━\u001b[0m\u001b[37m\u001b[0m \u001b[1m41s\u001b[0m 115ms/step - accuracy: 0.3241 - loss: 2.2443 - val_accuracy: 0.4590 - val_loss: 1.5979\n",
            "Epoch 3/30\n",
            "\u001b[1m176/176\u001b[0m \u001b[32m━━━━━━━━━━━━━━━━━━━━\u001b[0m\u001b[37m\u001b[0m \u001b[1m21s\u001b[0m 119ms/step - accuracy: 0.4364 - loss: 1.8103 - val_accuracy: 0.5246 - val_loss: 1.4165\n",
            "Epoch 4/30\n",
            "\u001b[1m176/176\u001b[0m \u001b[32m━━━━━━━━━━━━━━━━━━━━\u001b[0m\u001b[37m\u001b[0m \u001b[1m40s\u001b[0m 111ms/step - accuracy: 0.5073 - loss: 1.5927 - val_accuracy: 0.5690 - val_loss: 1.2130\n",
            "Epoch 5/30\n",
            "\u001b[1m176/176\u001b[0m \u001b[32m━━━━━━━━━━━━━━━━━━━━\u001b[0m\u001b[37m\u001b[0m \u001b[1m22s\u001b[0m 119ms/step - accuracy: 0.5647 - loss: 1.3961 - val_accuracy: 0.5988 - val_loss: 1.1572\n",
            "Epoch 6/30\n",
            "\u001b[1m176/176\u001b[0m \u001b[32m━━━━━━━━━━━━━━━━━━━━\u001b[0m\u001b[37m\u001b[0m \u001b[1m40s\u001b[0m 112ms/step - accuracy: 0.6137 - loss: 1.2231 - val_accuracy: 0.6644 - val_loss: 1.0262\n",
            "Epoch 7/30\n",
            "\u001b[1m176/176\u001b[0m \u001b[32m━━━━━━━━━━━━━━━━━━━━\u001b[0m\u001b[37m\u001b[0m \u001b[1m21s\u001b[0m 115ms/step - accuracy: 0.6396 - loss: 1.1160 - val_accuracy: 0.6548 - val_loss: 0.9721\n",
            "Epoch 8/30\n",
            "\u001b[1m176/176\u001b[0m \u001b[32m━━━━━━━━━━━━━━━━━━━━\u001b[0m\u001b[37m\u001b[0m \u001b[1m20s\u001b[0m 113ms/step - accuracy: 0.6712 - loss: 1.0049 - val_accuracy: 0.7180 - val_loss: 0.8294\n",
            "Epoch 9/30\n",
            "\u001b[1m176/176\u001b[0m \u001b[32m━━━━━━━━━━━━━━━━━━━━\u001b[0m\u001b[37m\u001b[0m \u001b[1m20s\u001b[0m 114ms/step - accuracy: 0.6983 - loss: 0.9072 - val_accuracy: 0.7232 - val_loss: 0.8257\n",
            "Epoch 10/30\n",
            "\u001b[1m176/176\u001b[0m \u001b[32m━━━━━━━━━━━━━━━━━━━━\u001b[0m\u001b[37m\u001b[0m \u001b[1m20s\u001b[0m 112ms/step - accuracy: 0.7231 - loss: 0.8224 - val_accuracy: 0.7372 - val_loss: 0.7523\n",
            "Epoch 11/30\n",
            "\u001b[1m176/176\u001b[0m \u001b[32m━━━━━━━━━━━━━━━━━━━━\u001b[0m\u001b[37m\u001b[0m \u001b[1m21s\u001b[0m 113ms/step - accuracy: 0.7385 - loss: 0.7843 - val_accuracy: 0.7760 - val_loss: 0.6464\n",
            "Epoch 12/30\n",
            "\u001b[1m176/176\u001b[0m \u001b[32m━━━━━━━━━━━━━━━━━━━━\u001b[0m\u001b[37m\u001b[0m \u001b[1m20s\u001b[0m 113ms/step - accuracy: 0.7585 - loss: 0.7192 - val_accuracy: 0.7594 - val_loss: 0.7037\n",
            "Epoch 13/30\n",
            "\u001b[1m176/176\u001b[0m \u001b[32m━━━━━━━━━━━━━━━━━━━━\u001b[0m\u001b[37m\u001b[0m \u001b[1m20s\u001b[0m 112ms/step - accuracy: 0.7792 - loss: 0.6512 - val_accuracy: 0.7708 - val_loss: 0.6418\n",
            "Epoch 14/30\n",
            "\u001b[1m176/176\u001b[0m \u001b[32m━━━━━━━━━━━━━━━━━━━━\u001b[0m\u001b[37m\u001b[0m \u001b[1m20s\u001b[0m 112ms/step - accuracy: 0.7956 - loss: 0.6071 - val_accuracy: 0.7938 - val_loss: 0.5989\n",
            "Epoch 15/30\n",
            "\u001b[1m176/176\u001b[0m \u001b[32m━━━━━━━━━━━━━━━━━━━━\u001b[0m\u001b[37m\u001b[0m \u001b[1m21s\u001b[0m 115ms/step - accuracy: 0.8014 - loss: 0.5862 - val_accuracy: 0.8126 - val_loss: 0.5636\n",
            "Epoch 16/30\n",
            "\u001b[1m176/176\u001b[0m \u001b[32m━━━━━━━━━━━━━━━━━━━━\u001b[0m\u001b[37m\u001b[0m \u001b[1m20s\u001b[0m 112ms/step - accuracy: 0.8123 - loss: 0.5539 - val_accuracy: 0.8152 - val_loss: 0.5391\n",
            "Epoch 17/30\n",
            "\u001b[1m176/176\u001b[0m \u001b[32m━━━━━━━━━━━━━━━━━━━━\u001b[0m\u001b[37m\u001b[0m \u001b[1m20s\u001b[0m 112ms/step - accuracy: 0.8262 - loss: 0.5097 - val_accuracy: 0.8220 - val_loss: 0.5252\n",
            "Epoch 18/30\n",
            "\u001b[1m176/176\u001b[0m \u001b[32m━━━━━━━━━━━━━━━━━━━━\u001b[0m\u001b[37m\u001b[0m \u001b[1m21s\u001b[0m 115ms/step - accuracy: 0.8349 - loss: 0.4866 - val_accuracy: 0.8114 - val_loss: 0.5365\n",
            "Epoch 19/30\n",
            "\u001b[1m176/176\u001b[0m \u001b[32m━━━━━━━━━━━━━━━━━━━━\u001b[0m\u001b[37m\u001b[0m \u001b[1m20s\u001b[0m 113ms/step - accuracy: 0.8472 - loss: 0.4464 - val_accuracy: 0.8306 - val_loss: 0.4828\n",
            "Epoch 20/30\n",
            "\u001b[1m176/176\u001b[0m \u001b[32m━━━━━━━━━━━━━━━━━━━━\u001b[0m\u001b[37m\u001b[0m \u001b[1m21s\u001b[0m 116ms/step - accuracy: 0.8533 - loss: 0.4327 - val_accuracy: 0.8414 - val_loss: 0.4716\n",
            "Epoch 21/30\n",
            "\u001b[1m176/176\u001b[0m \u001b[32m━━━━━━━━━━━━━━━━━━━━\u001b[0m\u001b[37m\u001b[0m \u001b[1m20s\u001b[0m 115ms/step - accuracy: 0.8632 - loss: 0.4049 - val_accuracy: 0.8450 - val_loss: 0.4454\n",
            "Epoch 22/30\n",
            "\u001b[1m176/176\u001b[0m \u001b[32m━━━━━━━━━━━━━━━━━━━━\u001b[0m\u001b[37m\u001b[0m \u001b[1m20s\u001b[0m 115ms/step - accuracy: 0.8678 - loss: 0.3804 - val_accuracy: 0.8450 - val_loss: 0.4509\n",
            "Epoch 23/30\n",
            "\u001b[1m176/176\u001b[0m \u001b[32m━━━━━━━━━━━━━━━━━━━━\u001b[0m\u001b[37m\u001b[0m \u001b[1m20s\u001b[0m 112ms/step - accuracy: 0.8711 - loss: 0.3758 - val_accuracy: 0.8492 - val_loss: 0.4426\n",
            "Epoch 24/30\n",
            "\u001b[1m176/176\u001b[0m \u001b[32m━━━━━━━━━━━━━━━━━━━━\u001b[0m\u001b[37m\u001b[0m \u001b[1m20s\u001b[0m 112ms/step - accuracy: 0.8795 - loss: 0.3564 - val_accuracy: 0.8588 - val_loss: 0.4135\n",
            "Epoch 25/30\n",
            "\u001b[1m176/176\u001b[0m \u001b[32m━━━━━━━━━━━━━━━━━━━━\u001b[0m\u001b[37m\u001b[0m \u001b[1m21s\u001b[0m 113ms/step - accuracy: 0.8843 - loss: 0.3330 - val_accuracy: 0.8626 - val_loss: 0.4051\n",
            "Epoch 26/30\n",
            "\u001b[1m176/176\u001b[0m \u001b[32m━━━━━━━━━━━━━━━━━━━━\u001b[0m\u001b[37m\u001b[0m \u001b[1m20s\u001b[0m 115ms/step - accuracy: 0.8910 - loss: 0.3176 - val_accuracy: 0.8636 - val_loss: 0.3999\n",
            "Epoch 27/30\n",
            "\u001b[1m176/176\u001b[0m \u001b[32m━━━━━━━━━━━━━━━━━━━━\u001b[0m\u001b[37m\u001b[0m \u001b[1m20s\u001b[0m 112ms/step - accuracy: 0.8932 - loss: 0.3075 - val_accuracy: 0.8644 - val_loss: 0.4033\n",
            "Epoch 28/30\n",
            "\u001b[1m176/176\u001b[0m \u001b[32m━━━━━━━━━━━━━━━━━━━━\u001b[0m\u001b[37m\u001b[0m \u001b[1m21s\u001b[0m 115ms/step - accuracy: 0.9011 - loss: 0.2853 - val_accuracy: 0.8694 - val_loss: 0.3858\n",
            "Epoch 29/30\n",
            "\u001b[1m176/176\u001b[0m \u001b[32m━━━━━━━━━━━━━━━━━━━━\u001b[0m\u001b[37m\u001b[0m \u001b[1m20s\u001b[0m 112ms/step - accuracy: 0.9029 - loss: 0.2802 - val_accuracy: 0.8710 - val_loss: 0.3754\n",
            "Epoch 30/30\n",
            "\u001b[1m176/176\u001b[0m \u001b[32m━━━━━━━━━━━━━━━━━━━━\u001b[0m\u001b[37m\u001b[0m \u001b[1m21s\u001b[0m 116ms/step - accuracy: 0.9113 - loss: 0.2611 - val_accuracy: 0.8648 - val_loss: 0.4001\n"
          ]
        }
      ]
    },
    {
      "cell_type": "code",
      "source": [
        "# Visualize training and validation performance\n",
        "f,ax=plt.subplots(2,1)\n",
        "\n",
        "# Plot training and validation loss\n",
        "ax[0].plot(history.history['loss'], color='b',label='Training Loss')\n",
        "ax[0].plot(history.history['val_loss'],color='r',label='Validation Loss')\n",
        "\n",
        "# Plot training and validation accuracy\n",
        "ax[1].plot(history.history['accuracy'],color='b',label='Training Accuracy')\n",
        "ax[1].plot(history.history['val_accuracy'],color='r',label='Validation Accuracy')\n",
        "\n",
        "plt.legend()"
      ],
      "metadata": {
        "execution": {
          "iopub.status.busy": "2024-09-29T01:51:37.799299Z",
          "iopub.execute_input": "2024-09-29T01:51:37.799625Z",
          "iopub.status.idle": "2024-09-29T01:51:38.199797Z",
          "shell.execute_reply.started": "2024-09-29T01:51:37.799591Z",
          "shell.execute_reply": "2024-09-29T01:51:38.198907Z"
        },
        "trusted": true,
        "colab": {
          "base_uri": "https://localhost:8080/",
          "height": 448
        },
        "id": "BnNvECwhqaEp",
        "outputId": "e1861a84-352b-4607-f681-fb92475b99e3"
      },
      "execution_count": 10,
      "outputs": [
        {
          "output_type": "execute_result",
          "data": {
            "text/plain": [
              "<matplotlib.legend.Legend at 0x7e4d548c2440>"
            ]
          },
          "metadata": {},
          "execution_count": 10
        },
        {
          "output_type": "display_data",
          "data": {
            "text/plain": [
              "<Figure size 640x480 with 2 Axes>"
            ],
            "image/png": "[encoded data removed]"
          },
          "metadata": {}
        }
      ]
    },
    {
      "cell_type": "markdown",
      "source": [
        "## Train with image augmentation to 92%"
      ],
      "metadata": {
        "id": "Hm31Ri6hqaEq"
      }
    },
    {
      "cell_type": "code",
      "source": [
        "from tensorflow.keras.preprocessing.image import ImageDataGenerator\n",
        "datagen = ImageDataGenerator(\n",
        "        rotation_range=30,\n",
        "        width_shift_range=0.15,\n",
        "        height_shift_range=0.15,\n",
        "        shear_range=0.1,\n",
        "        zoom_range=0.1,\n",
        "        horizontal_flip=True,\n",
        "        fill_mode='nearest')\n",
        "datagen.fit(X_train)"
      ],
      "metadata": {
        "execution": {
          "iopub.status.busy": "2024-09-29T01:51:38.200992Z",
          "iopub.execute_input": "2024-09-29T01:51:38.201352Z",
          "iopub.status.idle": "2024-09-29T01:51:38.607721Z",
          "shell.execute_reply.started": "2024-09-29T01:51:38.201317Z",
          "shell.execute_reply": "2024-09-29T01:51:38.606897Z"
        },
        "trusted": true,
        "id": "o6bGlEYlqaEq"
      },
      "execution_count": 11,
      "outputs": []
    },
    {
      "cell_type": "code",
      "source": [
        "import tensorflow as tf\n",
        "import keras              # Keras is the high-level API of TensorFlow\n",
        "from tensorflow.keras.callbacks import Callback, LearningRateScheduler, EarlyStopping\n",
        "\n",
        "# Custom callback to stop training when accuracy reaches 0.95\n",
        "class StopAtAccuracy(Callback):\n",
        "    def __init__(self, target_accuracy):\n",
        "        super(StopAtAccuracy, self).__init__()\n",
        "        self.target_accuracy = target_accuracy\n",
        "\n",
        "    def on_epoch_end(self, epoch, logs=None):\n",
        "        if logs.get('accuracy') >= self.target_accuracy:\n",
        "            print(f\"\\nReached {self.target_accuracy*100}% accuracy, stopping training!\")\n",
        "            self.model.stop_training = True\n",
        "\n",
        "# Create the EarlyStopping callback\n",
        "early_stop = EarlyStopping(monitor='val_accuracy', patience=100, restore_best_weights=True)\n",
        "\n",
        "# Create the StopAtAccuracy callback with a target of 0.93 accuracy\n",
        "stop_at_acc = StopAtAccuracy(target_accuracy=0.932)\n",
        "\n",
        "# Train the model\n",
        "history = model.fit(datagen.flow(X_train, y_train, batch_size=128),\n",
        "                    epochs=200,\n",
        "                    validation_data=(X_val, y_val),\n",
        "                    callbacks=[early_stop, stop_at_acc])"
      ],
      "metadata": {
        "scrolled": true,
        "execution": {
          "iopub.status.busy": "2024-09-29T01:51:38.608824Z",
          "iopub.execute_input": "2024-09-29T01:51:38.609142Z"
        },
        "trusted": true,
        "colab": {
          "base_uri": "https://localhost:8080/"
        },
        "id": "6tP4K3KGqaEq",
        "outputId": "3cee279c-1e47-4861-8a9d-75d682828be5"
      },
      "execution_count": 19,
      "outputs": [
        {
          "output_type": "stream",
          "name": "stdout",
          "text": [
            "Epoch 1/20\n"
          ]
        },
        {
          "output_type": "stream",
          "name": "stderr",
          "text": [
            "/usr/local/lib/python3.10/dist-packages/keras/src/trainers/data_adapters/py_dataset_adapter.py:121: UserWarning: Your `PyDataset` class should call `super().__init__(**kwargs)` in its constructor. `**kwargs` can include `workers`, `use_multiprocessing`, `max_queue_size`. Do not pass these arguments to `fit()`, as they will be ignored.\n",
            "  self._warn_if_super_not_called()\n"
          ]
        },
        {
          "output_type": "stream",
          "name": "stdout",
          "text": [
            "\u001b[1m352/352\u001b[0m \u001b[32m━━━━━━━━━━━━━━━━━━━━\u001b[0m\u001b[37m\u001b[0m \u001b[1m40s\u001b[0m 109ms/step - accuracy: 0.9103 - loss: 0.2816 - val_accuracy: 0.9268 - val_loss: 0.2261\n",
            "Epoch 2/20\n",
            "\u001b[1m352/352\u001b[0m \u001b[32m━━━━━━━━━━━━━━━━━━━━\u001b[0m\u001b[37m\u001b[0m \u001b[1m40s\u001b[0m 112ms/step - accuracy: 0.9206 - loss: 0.2268 - val_accuracy: 0.9286 - val_loss: 0.2166\n",
            "Epoch 3/20\n",
            "\u001b[1m352/352\u001b[0m \u001b[32m━━━━━━━━━━━━━━━━━━━━\u001b[0m\u001b[37m\u001b[0m \u001b[1m53s\u001b[0m 146ms/step - accuracy: 0.9227 - loss: 0.2177 - val_accuracy: 0.9242 - val_loss: 0.2299\n",
            "Epoch 4/20\n",
            "\u001b[1m352/352\u001b[0m \u001b[32m━━━━━━━━━━━━━━━━━━━━\u001b[0m\u001b[37m\u001b[0m \u001b[1m40s\u001b[0m 112ms/step - accuracy: 0.9266 - loss: 0.2075 - val_accuracy: 0.9254 - val_loss: 0.2265\n",
            "Epoch 5/20\n",
            "\u001b[1m352/352\u001b[0m \u001b[32m━━━━━━━━━━━━━━━━━━━━\u001b[0m\u001b[37m\u001b[0m \u001b[1m40s\u001b[0m 110ms/step - accuracy: 0.9268 - loss: 0.2119 - val_accuracy: 0.9248 - val_loss: 0.2304\n",
            "Epoch 6/20\n",
            "\u001b[1m352/352\u001b[0m \u001b[32m━━━━━━━━━━━━━━━━━━━━\u001b[0m\u001b[37m\u001b[0m \u001b[1m40s\u001b[0m 111ms/step - accuracy: 0.9275 - loss: 0.2102 - val_accuracy: 0.9228 - val_loss: 0.2377\n",
            "Epoch 7/20\n",
            "\u001b[1m352/352\u001b[0m \u001b[32m━━━━━━━━━━━━━━━━━━━━\u001b[0m\u001b[37m\u001b[0m \u001b[1m40s\u001b[0m 110ms/step - accuracy: 0.9299 - loss: 0.2043 - val_accuracy: 0.9272 - val_loss: 0.2229\n",
            "Epoch 8/20\n",
            "\u001b[1m352/352\u001b[0m \u001b[32m━━━━━━━━━━━━━━━━━━━━\u001b[0m\u001b[37m\u001b[0m \u001b[1m38s\u001b[0m 107ms/step - accuracy: 0.9296 - loss: 0.2020 - val_accuracy: 0.9240 - val_loss: 0.2324\n",
            "Epoch 9/20\n",
            "\u001b[1m352/352\u001b[0m \u001b[32m━━━━━━━━━━━━━━━━━━━━\u001b[0m\u001b[37m\u001b[0m \u001b[1m38s\u001b[0m 106ms/step - accuracy: 0.9301 - loss: 0.2008 - val_accuracy: 0.9252 - val_loss: 0.2315\n",
            "Epoch 10/20\n",
            "\u001b[1m352/352\u001b[0m \u001b[32m━━━━━━━━━━━━━━━━━━━━\u001b[0m\u001b[37m\u001b[0m \u001b[1m42s\u001b[0m 108ms/step - accuracy: 0.9302 - loss: 0.1985 - val_accuracy: 0.9260 - val_loss: 0.2147\n",
            "Epoch 11/20\n",
            "\u001b[1m352/352\u001b[0m \u001b[32m━━━━━━━━━━━━━━━━━━━━\u001b[0m\u001b[37m\u001b[0m \u001b[1m41s\u001b[0m 109ms/step - accuracy: 0.9291 - loss: 0.2023 - val_accuracy: 0.9274 - val_loss: 0.2337\n",
            "Epoch 12/20\n",
            "\u001b[1m352/352\u001b[0m \u001b[32m━━━━━━━━━━━━━━━━━━━━\u001b[0m\u001b[37m\u001b[0m \u001b[1m0s\u001b[0m 106ms/step - accuracy: 0.9331 - loss: 0.1981\n",
            "Reached 93.2% accuracy, stopping training!\n",
            "\u001b[1m352/352\u001b[0m \u001b[32m━━━━━━━━━━━━━━━━━━━━\u001b[0m\u001b[37m\u001b[0m \u001b[1m39s\u001b[0m 109ms/step - accuracy: 0.9331 - loss: 0.1981 - val_accuracy: 0.9258 - val_loss: 0.2302\n"
          ]
        }
      ]
    },
    {
      "cell_type": "markdown",
      "source": [
        "## Combine aug and normal image to 93.6"
      ],
      "metadata": {
        "id": "dDoHBrsXqaEq"
      }
    },
    {
      "cell_type": "code",
      "source": [
        "import numpy as np\n",
        "from sklearn.model_selection import train_test_split\n",
        "from tensorflow.keras.preprocessing.image import ImageDataGenerator\n",
        "from tensorflow.keras.callbacks import EarlyStopping\n",
        "\n",
        "\n",
        "X_train = X_train.astype('float32')\n",
        "X_val = X_val.astype('float32')\n",
        "\n",
        "# ImageDataGenerator for augmenting the 20% of the data\n",
        "datagen = ImageDataGenerator(\n",
        "    rotation_range=30,\n",
        "    width_shift_range=0.15,\n",
        "    height_shift_range=0.15,\n",
        "    shear_range=0.1,\n",
        "    zoom_range=0.1,\n",
        "    horizontal_flip=True,\n",
        "    fill_mode='nearest'\n",
        ")\n",
        "\n",
        "rate = 0.8\n",
        "\n",
        "# Define a generator to yield the combined normal and augmented data per epoch\n",
        "def mixed_data_generator(X_train_normal, y_train_normal, X_train_aug, y_train_aug, datagen, batch_size):\n",
        "    # Number of batches for 70% normal and 30% augmented samples\n",
        "    normal_batches = int(batch_size * rate)\n",
        "    aug_batches = batch_size - normal_batches\n",
        "\n",
        "    num_normal_samples = len(X_train_normal)\n",
        "    num_aug_samples = len(X_train_aug)\n",
        "\n",
        "    # Infinite generator loop\n",
        "    while True:\n",
        "        # Shuffle indices instead of entire datasets\n",
        "        idx_normal = np.random.permutation(num_normal_samples)\n",
        "\n",
        "        # Loop over the normal data in chunks (without shuffling the entire dataset at once)\n",
        "        for i in range(0, num_normal_samples, normal_batches):\n",
        "            # Create smaller, shuffled batches on the fly\n",
        "            batch_indices = idx_normal[i:i + normal_batches]\n",
        "            normal_X_batch = X_train_normal[batch_indices]\n",
        "            normal_y_batch = y_train_normal[batch_indices]\n",
        "\n",
        "            # Generate augmented data only for the current batch\n",
        "            aug_X_batch, aug_y_batch = next(datagen.flow(X_train_aug, y_train_aug, batch_size=aug_batches))\n",
        "\n",
        "            # Combine the batches\n",
        "            combined_X_batch = np.concatenate([normal_X_batch, aug_X_batch], axis=0)\n",
        "            combined_y_batch = np.concatenate([normal_y_batch, aug_y_batch], axis=0)\n",
        "\n",
        "            # Yield the combined batch\n",
        "            yield combined_X_batch, combined_y_batch\n",
        "\n",
        "\n",
        "# Callbacks\n",
        "early_stop = EarlyStopping(monitor='val_loss', patience=40, restore_best_weights=True)\n",
        "\n",
        "# Set batch size\n",
        "batch_size = 256\n",
        "\n",
        "# Mixed data generator\n",
        "train_generator = mixed_data_generator(X_train, y_train, X_train, y_train, datagen, batch_size)\n",
        "\n",
        "# Fit the model\n",
        "history = model.fit(\n",
        "    train_generator,\n",
        "    steps_per_epoch=len(X_train) // int(batch_size * rate),  # Steps for 80% normal and 20% augmented data\n",
        "    epochs=80,\n",
        "    validation_data=(X_val, y_val),  # Validation set\n",
        "    callbacks=[early_stop]\n",
        ")\n"
      ],
      "metadata": {
        "scrolled": true,
        "trusted": true,
        "colab": {
          "base_uri": "https://localhost:8080/"
        },
        "id": "339qeYVNqaEq",
        "outputId": "5b5f8f1e-eb75-4130-f002-902630e75c27"
      },
      "execution_count": 20,
      "outputs": [
        {
          "output_type": "stream",
          "name": "stdout",
          "text": [
            "Epoch 1/80\n",
            "\u001b[1m220/220\u001b[0m \u001b[32m━━━━━━━━━━━━━━━━━━━━\u001b[0m\u001b[37m\u001b[0m \u001b[1m25s\u001b[0m 115ms/step - accuracy: 0.9708 - loss: 0.0875 - val_accuracy: 0.9342 - val_loss: 0.1958\n",
            "Epoch 2/80\n",
            "\u001b[1m220/220\u001b[0m \u001b[32m━━━━━━━━━━━━━━━━━━━━\u001b[0m\u001b[37m\u001b[0m \u001b[1m25s\u001b[0m 114ms/step - accuracy: 0.9761 - loss: 0.0725 - val_accuracy: 0.9390 - val_loss: 0.1984\n",
            "Epoch 3/80\n",
            "\u001b[1m220/220\u001b[0m \u001b[32m━━━━━━━━━━━━━━━━━━━━\u001b[0m\u001b[37m\u001b[0m \u001b[1m25s\u001b[0m 114ms/step - accuracy: 0.9767 - loss: 0.0689 - val_accuracy: 0.9402 - val_loss: 0.2004\n",
            "Epoch 4/80\n",
            "\u001b[1m220/220\u001b[0m \u001b[32m━━━━━━━━━━━━━━━━━━━━\u001b[0m\u001b[37m\u001b[0m \u001b[1m25s\u001b[0m 115ms/step - accuracy: 0.9764 - loss: 0.0690 - val_accuracy: 0.9392 - val_loss: 0.1978\n",
            "Epoch 5/80\n",
            "\u001b[1m220/220\u001b[0m \u001b[32m━━━━━━━━━━━━━━━━━━━━\u001b[0m\u001b[37m\u001b[0m \u001b[1m25s\u001b[0m 113ms/step - accuracy: 0.9777 - loss: 0.0679 - val_accuracy: 0.9362 - val_loss: 0.2124\n",
            "Epoch 6/80\n",
            "\u001b[1m220/220\u001b[0m \u001b[32m━━━━━━━━━━━━━━━━━━━━\u001b[0m\u001b[37m\u001b[0m \u001b[1m25s\u001b[0m 113ms/step - accuracy: 0.9778 - loss: 0.0662 - val_accuracy: 0.9364 - val_loss: 0.2009\n",
            "Epoch 7/80\n",
            "\u001b[1m220/220\u001b[0m \u001b[32m━━━━━━━━━━━━━━━━━━━━\u001b[0m\u001b[37m\u001b[0m \u001b[1m25s\u001b[0m 113ms/step - accuracy: 0.9774 - loss: 0.0675 - val_accuracy: 0.9376 - val_loss: 0.1987\n",
            "Epoch 8/80\n",
            "\u001b[1m220/220\u001b[0m \u001b[32m━━━━━━━━━━━━━━━━━━━━\u001b[0m\u001b[37m\u001b[0m \u001b[1m25s\u001b[0m 114ms/step - accuracy: 0.9768 - loss: 0.0673 - val_accuracy: 0.9360 - val_loss: 0.2146\n",
            "Epoch 9/80\n",
            "\u001b[1m220/220\u001b[0m \u001b[32m━━━━━━━━━━━━━━━━━━━━\u001b[0m\u001b[37m\u001b[0m \u001b[1m25s\u001b[0m 113ms/step - accuracy: 0.9788 - loss: 0.0648 - val_accuracy: 0.9382 - val_loss: 0.2041\n",
            "Epoch 10/80\n",
            "\u001b[1m220/220\u001b[0m \u001b[32m━━━━━━━━━━━━━━━━━━━━\u001b[0m\u001b[37m\u001b[0m \u001b[1m25s\u001b[0m 114ms/step - accuracy: 0.9773 - loss: 0.0674 - val_accuracy: 0.9360 - val_loss: 0.2091\n",
            "Epoch 11/80\n",
            "\u001b[1m220/220\u001b[0m \u001b[32m━━━━━━━━━━━━━━━━━━━━\u001b[0m\u001b[37m\u001b[0m \u001b[1m25s\u001b[0m 114ms/step - accuracy: 0.9779 - loss: 0.0655 - val_accuracy: 0.9352 - val_loss: 0.2223\n",
            "Epoch 12/80\n",
            "\u001b[1m220/220\u001b[0m \u001b[32m━━━━━━━━━━━━━━━━━━━━\u001b[0m\u001b[37m\u001b[0m \u001b[1m25s\u001b[0m 113ms/step - accuracy: 0.9773 - loss: 0.0664 - val_accuracy: 0.9316 - val_loss: 0.2169\n",
            "Epoch 13/80\n",
            "\u001b[1m220/220\u001b[0m \u001b[32m━━━━━━━━━━━━━━━━━━━━\u001b[0m\u001b[37m\u001b[0m \u001b[1m25s\u001b[0m 113ms/step - accuracy: 0.9791 - loss: 0.0614 - val_accuracy: 0.9370 - val_loss: 0.2166\n",
            "Epoch 14/80\n",
            "\u001b[1m220/220\u001b[0m \u001b[32m━━━━━━━━━━━━━━━━━━━━\u001b[0m\u001b[37m\u001b[0m \u001b[1m25s\u001b[0m 115ms/step - accuracy: 0.9792 - loss: 0.0653 - val_accuracy: 0.9360 - val_loss: 0.2132\n",
            "Epoch 15/80\n",
            "\u001b[1m220/220\u001b[0m \u001b[32m━━━━━━━━━━━━━━━━━━━━\u001b[0m\u001b[37m\u001b[0m \u001b[1m25s\u001b[0m 115ms/step - accuracy: 0.9789 - loss: 0.0639 - val_accuracy: 0.9342 - val_loss: 0.2244\n",
            "Epoch 16/80\n",
            "\u001b[1m220/220\u001b[0m \u001b[32m━━━━━━━━━━━━━━━━━━━━\u001b[0m\u001b[37m\u001b[0m \u001b[1m25s\u001b[0m 114ms/step - accuracy: 0.9771 - loss: 0.0694 - val_accuracy: 0.9362 - val_loss: 0.2109\n",
            "Epoch 17/80\n",
            "\u001b[1m220/220\u001b[0m \u001b[32m━━━━━━━━━━━━━━━━━━━━\u001b[0m\u001b[37m\u001b[0m \u001b[1m25s\u001b[0m 113ms/step - accuracy: 0.9779 - loss: 0.0678 - val_accuracy: 0.9346 - val_loss: 0.2155\n",
            "Epoch 18/80\n",
            "\u001b[1m220/220\u001b[0m \u001b[32m━━━━━━━━━━━━━━━━━━━━\u001b[0m\u001b[37m\u001b[0m \u001b[1m25s\u001b[0m 114ms/step - accuracy: 0.9796 - loss: 0.0639 - val_accuracy: 0.9362 - val_loss: 0.2206\n",
            "Epoch 19/80\n",
            "\u001b[1m220/220\u001b[0m \u001b[32m━━━━━━━━━━━━━━━━━━━━\u001b[0m\u001b[37m\u001b[0m \u001b[1m25s\u001b[0m 113ms/step - accuracy: 0.9765 - loss: 0.0706 - val_accuracy: 0.9354 - val_loss: 0.2201\n",
            "Epoch 20/80\n",
            "\u001b[1m220/220\u001b[0m \u001b[32m━━━━━━━━━━━━━━━━━━━━\u001b[0m\u001b[37m\u001b[0m \u001b[1m25s\u001b[0m 114ms/step - accuracy: 0.9772 - loss: 0.0663 - val_accuracy: 0.9356 - val_loss: 0.2141\n",
            "Epoch 21/80\n",
            "\u001b[1m220/220\u001b[0m \u001b[32m━━━━━━━━━━━━━━━━━━━━\u001b[0m\u001b[37m\u001b[0m \u001b[1m25s\u001b[0m 114ms/step - accuracy: 0.9777 - loss: 0.0686 - val_accuracy: 0.9374 - val_loss: 0.2051\n",
            "Epoch 22/80\n",
            "\u001b[1m220/220\u001b[0m \u001b[32m━━━━━━━━━━━━━━━━━━━━\u001b[0m\u001b[37m\u001b[0m \u001b[1m25s\u001b[0m 113ms/step - accuracy: 0.9769 - loss: 0.0680 - val_accuracy: 0.9374 - val_loss: 0.2054\n",
            "Epoch 23/80\n",
            "\u001b[1m220/220\u001b[0m \u001b[32m━━━━━━━━━━━━━━━━━━━━\u001b[0m\u001b[37m\u001b[0m \u001b[1m25s\u001b[0m 114ms/step - accuracy: 0.9782 - loss: 0.0637 - val_accuracy: 0.9368 - val_loss: 0.2129\n",
            "Epoch 24/80\n",
            "\u001b[1m220/220\u001b[0m \u001b[32m━━━━━━━━━━━━━━━━━━━━\u001b[0m\u001b[37m\u001b[0m \u001b[1m25s\u001b[0m 114ms/step - accuracy: 0.9768 - loss: 0.0715 - val_accuracy: 0.9354 - val_loss: 0.2149\n",
            "Epoch 25/80\n",
            "\u001b[1m220/220\u001b[0m \u001b[32m━━━━━━━━━━━━━━━━━━━━\u001b[0m\u001b[37m\u001b[0m \u001b[1m25s\u001b[0m 114ms/step - accuracy: 0.9783 - loss: 0.0628 - val_accuracy: 0.9322 - val_loss: 0.2211\n",
            "Epoch 26/80\n",
            "\u001b[1m220/220\u001b[0m \u001b[32m━━━━━━━━━━━━━━━━━━━━\u001b[0m\u001b[37m\u001b[0m \u001b[1m25s\u001b[0m 112ms/step - accuracy: 0.9785 - loss: 0.0647 - val_accuracy: 0.9356 - val_loss: 0.2192\n",
            "Epoch 27/80\n",
            "\u001b[1m220/220\u001b[0m \u001b[32m━━━━━━━━━━━━━━━━━━━━\u001b[0m\u001b[37m\u001b[0m \u001b[1m25s\u001b[0m 114ms/step - accuracy: 0.9795 - loss: 0.0622 - val_accuracy: 0.9328 - val_loss: 0.2089\n",
            "Epoch 28/80\n",
            "\u001b[1m220/220\u001b[0m \u001b[32m━━━━━━━━━━━━━━━━━━━━\u001b[0m\u001b[37m\u001b[0m \u001b[1m25s\u001b[0m 114ms/step - accuracy: 0.9786 - loss: 0.0625 - val_accuracy: 0.9320 - val_loss: 0.2295\n",
            "Epoch 29/80\n",
            "\u001b[1m220/220\u001b[0m \u001b[32m━━━━━━━━━━━━━━━━━━━━\u001b[0m\u001b[37m\u001b[0m \u001b[1m25s\u001b[0m 113ms/step - accuracy: 0.9779 - loss: 0.0664 - val_accuracy: 0.9330 - val_loss: 0.2273\n",
            "Epoch 30/80\n",
            "\u001b[1m220/220\u001b[0m \u001b[32m━━━━━━━━━━━━━━━━━━━━\u001b[0m\u001b[37m\u001b[0m \u001b[1m25s\u001b[0m 115ms/step - accuracy: 0.9783 - loss: 0.0631 - val_accuracy: 0.9348 - val_loss: 0.2135\n",
            "Epoch 31/80\n",
            "\u001b[1m220/220\u001b[0m \u001b[32m━━━━━━━━━━━━━━━━━━━━\u001b[0m\u001b[37m\u001b[0m \u001b[1m25s\u001b[0m 116ms/step - accuracy: 0.9796 - loss: 0.0645 - val_accuracy: 0.9366 - val_loss: 0.2191\n",
            "Epoch 32/80\n",
            "\u001b[1m220/220\u001b[0m \u001b[32m━━━━━━━━━━━━━━━━━━━━\u001b[0m\u001b[37m\u001b[0m \u001b[1m25s\u001b[0m 114ms/step - accuracy: 0.9782 - loss: 0.0645 - val_accuracy: 0.9394 - val_loss: 0.2099\n",
            "Epoch 33/80\n",
            "\u001b[1m220/220\u001b[0m \u001b[32m━━━━━━━━━━━━━━━━━━━━\u001b[0m\u001b[37m\u001b[0m \u001b[1m25s\u001b[0m 115ms/step - accuracy: 0.9760 - loss: 0.0698 - val_accuracy: 0.9330 - val_loss: 0.2296\n",
            "Epoch 34/80\n",
            "\u001b[1m220/220\u001b[0m \u001b[32m━━━━━━━━━━━━━━━━━━━━\u001b[0m\u001b[37m\u001b[0m \u001b[1m25s\u001b[0m 114ms/step - accuracy: 0.9787 - loss: 0.0661 - val_accuracy: 0.9322 - val_loss: 0.2299\n",
            "Epoch 35/80\n",
            "\u001b[1m220/220\u001b[0m \u001b[32m━━━━━━━━━━━━━━━━━━━━\u001b[0m\u001b[37m\u001b[0m \u001b[1m25s\u001b[0m 114ms/step - accuracy: 0.9798 - loss: 0.0614 - val_accuracy: 0.9358 - val_loss: 0.2178\n",
            "Epoch 36/80\n",
            "\u001b[1m220/220\u001b[0m \u001b[32m━━━━━━━━━━━━━━━━━━━━\u001b[0m\u001b[37m\u001b[0m \u001b[1m25s\u001b[0m 114ms/step - accuracy: 0.9797 - loss: 0.0623 - val_accuracy: 0.9358 - val_loss: 0.2217\n",
            "Epoch 37/80\n",
            "\u001b[1m220/220\u001b[0m \u001b[32m━━━━━━━━━━━━━━━━━━━━\u001b[0m\u001b[37m\u001b[0m \u001b[1m25s\u001b[0m 113ms/step - accuracy: 0.9790 - loss: 0.0634 - val_accuracy: 0.9368 - val_loss: 0.2208\n",
            "Epoch 38/80\n",
            "\u001b[1m220/220\u001b[0m \u001b[32m━━━━━━━━━━━━━━━━━━━━\u001b[0m\u001b[37m\u001b[0m \u001b[1m25s\u001b[0m 114ms/step - accuracy: 0.9789 - loss: 0.0677 - val_accuracy: 0.9334 - val_loss: 0.2279\n",
            "Epoch 39/80\n",
            "\u001b[1m220/220\u001b[0m \u001b[32m━━━━━━━━━━━━━━━━━━━━\u001b[0m\u001b[37m\u001b[0m \u001b[1m25s\u001b[0m 114ms/step - accuracy: 0.9787 - loss: 0.0636 - val_accuracy: 0.9346 - val_loss: 0.2315\n",
            "Epoch 40/80\n",
            "\u001b[1m220/220\u001b[0m \u001b[32m━━━━━━━━━━━━━━━━━━━━\u001b[0m\u001b[37m\u001b[0m \u001b[1m25s\u001b[0m 114ms/step - accuracy: 0.9779 - loss: 0.0658 - val_accuracy: 0.9348 - val_loss: 0.2256\n",
            "Epoch 41/80\n",
            "\u001b[1m220/220\u001b[0m \u001b[32m━━━━━━━━━━━━━━━━━━━━\u001b[0m\u001b[37m\u001b[0m \u001b[1m25s\u001b[0m 114ms/step - accuracy: 0.9784 - loss: 0.0654 - val_accuracy: 0.9356 - val_loss: 0.2250\n"
          ]
        }
      ]
    },
    {
      "cell_type": "code",
      "source": [
        "# Visualize training and validation performance\n",
        "f,ax=plt.subplots(2,1)\n",
        "\n",
        "# Plot training and validation loss\n",
        "ax[0].plot(history.history['loss'], color='b',label='Training Loss')\n",
        "ax[0].plot(history.history['val_loss'],color='r',label='Validation Loss')\n",
        "\n",
        "# Plot training and validation accuracy\n",
        "ax[1].plot(history.history['accuracy'],color='b',label='Training Accuracy')\n",
        "ax[1].plot(history.history['val_accuracy'],color='r',label='Validation Accuracy')\n",
        "\n",
        "plt.legend()"
      ],
      "metadata": {
        "trusted": true,
        "colab": {
          "base_uri": "https://localhost:8080/",
          "height": 448
        },
        "id": "kqhAn3TPqaEr",
        "outputId": "fbf37900-ec09-4e3e-dedc-9e7efcba5d26"
      },
      "execution_count": 21,
      "outputs": [
        {
          "output_type": "execute_result",
          "data": {
            "text/plain": [
              "<matplotlib.legend.Legend at 0x7e4d11f25030>"
            ]
          },
          "metadata": {},
          "execution_count": 21
        },
        {
          "output_type": "display_data",
          "data": {
            "text/plain": [
              "<Figure size 640x480 with 2 Axes>"
            ],
            "image/png": "[encoded data removed]"
          },
          "metadata": {}
        }
      ]
    },
    {
      "cell_type": "code",
      "source": [
        "# Let us load a saved model and evaluate its performance on the test set\n",
        "result = model.evaluate(X_test, y_test) # If unspecified, batch_size will default to 32"
      ],
      "metadata": {
        "trusted": true,
        "colab": {
          "base_uri": "https://localhost:8080/"
        },
        "id": "lY674Hd5qaEr",
        "outputId": "8f985c23-3106-402d-96e1-a6f1aaf34c74"
      },
      "execution_count": 22,
      "outputs": [
        {
          "output_type": "stream",
          "name": "stdout",
          "text": [
            "\u001b[1m313/313\u001b[0m \u001b[32m━━━━━━━━━━━━━━━━━━━━\u001b[0m\u001b[37m\u001b[0m \u001b[1m2s\u001b[0m 7ms/step - accuracy: 0.9336 - loss: 0.2076\n"
          ]
        }
      ]
    },
    {
      "cell_type": "code",
      "source": [
        "# Show the model performance\n",
        "print(model.metrics_names) # result[0] is loss, result[1] is accuracy. The metrics are defined in AlexNet.complie(...)\n",
        "print(\"Loss and accuracy on the test set: loss = {}, accuracy = {}\".format(result[0],result[1]))"
      ],
      "metadata": {
        "trusted": true,
        "colab": {
          "base_uri": "https://localhost:8080/"
        },
        "id": "n8ihvmzMqaEr",
        "outputId": "27b1bf3f-cad9-4383-9b6e-df95f46d65ed"
      },
      "execution_count": 23,
      "outputs": [
        {
          "output_type": "stream",
          "name": "stdout",
          "text": [
            "['loss', 'compile_metrics']\n",
            "Loss and accuracy on the test set: loss = 0.20507633686065674, accuracy = 0.9343000054359436\n"
          ]
        }
      ]
    },
    {
      "cell_type": "code",
      "source": [],
      "metadata": {
        "id": "ImGCb0h4-QV5"
      },
      "execution_count": null,
      "outputs": []
    }
  ]
}